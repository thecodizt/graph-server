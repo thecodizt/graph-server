{
 "cells": [
  {
   "cell_type": "code",
   "execution_count": 1,
   "metadata": {},
   "outputs": [],
   "source": [
    "from randomgen import RandomNetworkGenerator\n",
    "import json\n",
    "import requests"
   ]
  },
  {
   "cell_type": "code",
   "execution_count": 2,
   "metadata": {},
   "outputs": [],
   "source": [
    "schema = json.load(open(\"../../../metadata/relations.json\", \"r\"))\n",
    "generator = RandomNetworkGenerator(schema)\n",
    "\n",
    "custom_counts = {\n",
    "    \"BusinessUnit\": 1,\n",
    "    \"ProductFamily\": 2,\n",
    "    \"ProductOffering\": 3,\n",
    "    \"Facility\": 4,\n",
    "    \"Parts\": 5,\n",
    "    \"Warehouse\": 6,\n",
    "    \"Supplier\": 7,\n",
    "}"
   ]
  },
  {
   "cell_type": "code",
   "execution_count": 3,
   "metadata": {},
   "outputs": [],
   "source": [
    "API_URL = \"http://localhost:8000\"\n",
    "\n",
    "version = \"static_medium_100\""
   ]
  },
  {
   "cell_type": "code",
   "execution_count": null,
   "metadata": {},
   "outputs": [],
   "source": [
    "create_ops = generator.create_network(custom_counts)\n",
    "\n",
    "print(f\"Generated {len(create_ops)} operations\")\n",
    "\n",
    "print(create_ops)"
   ]
  },
  {
   "cell_type": "code",
   "execution_count": null,
   "metadata": {},
   "outputs": [],
   "source": [
    "updated_create_ops = []\n",
    "\n",
    "for op in create_ops:\n",
    "    op[\"version\"] = version \n",
    "    updated_create_ops.append(op)\n",
    "\n",
    "requests.post(f\"{API_URL}/schema/live/update/bulk\", json=updated_create_ops)"
   ]
  },
  {
   "cell_type": "code",
   "execution_count": null,
   "metadata": {},
   "outputs": [],
   "source": [
    "update_cycles = 100\n",
    "for _ in range(update_cycles):\n",
    "    update_ops = generator.generate_updates(\n",
    "        node_updates=10,\n",
    "        edge_updates=10\n",
    "    )\n",
    "    print(f\"Generated {len(update_ops)} update operations\")\n",
    "\n",
    "    updated_update_ops = []\n",
    "\n",
    "    for op in update_ops:\n",
    "        op[\"version\"] = version\n",
    "        updated_update_ops.append(op)\n",
    "\n",
    "    requests.post(f\"{API_URL}/schema/live/update/bulk\", json=updated_update_ops)"
   ]
  },
  {
   "cell_type": "code",
   "execution_count": 7,
   "metadata": {},
   "outputs": [],
   "source": [
    "delete_cycles = 0\n",
    "for _ in range(delete_cycles):\n",
    "    delete_ops = generator.generate_deletions(\n",
    "        node_deletions=5,\n",
    "        edge_deletions=5\n",
    "    )\n",
    "    print(f\"Generated {len(delete_ops)} delete operations\")\n",
    "\n",
    "    updated_delete_ops = []\n",
    "\n",
    "    for op in delete_ops:\n",
    "        op[\"version\"] = version\n",
    "        updated_delete_ops.append(op)\n",
    "\n",
    "    requests.post(f\"{API_URL}/schema/live/update/bulk\", json=updated_delete_ops)"
   ]
  },
  {
   "cell_type": "code",
   "execution_count": null,
   "metadata": {},
   "outputs": [],
   "source": []
  }
 ],
 "metadata": {
  "kernelspec": {
   "display_name": "venv",
   "language": "python",
   "name": "python3"
  },
  "language_info": {
   "codemirror_mode": {
    "name": "ipython",
    "version": 3
   },
   "file_extension": ".py",
   "mimetype": "text/x-python",
   "name": "python",
   "nbconvert_exporter": "python",
   "pygments_lexer": "ipython3",
   "version": "3.12.0"
  }
 },
 "nbformat": 4,
 "nbformat_minor": 2
}
