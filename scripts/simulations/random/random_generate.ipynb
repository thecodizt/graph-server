{
 "cells": [
  {
   "cell_type": "code",
   "execution_count": 1,
   "metadata": {},
   "outputs": [],
   "source": [
    "from randomgen import RandomNetworkGenerator\n",
    "import json\n",
    "import requests\n",
    "import time"
   ]
  },
  {
   "cell_type": "code",
   "execution_count": 2,
   "metadata": {},
   "outputs": [],
   "source": [
    "schema = json.load(open(\"../../../metadata/relations.json\", \"r\"))\n",
    "generator = RandomNetworkGenerator(schema)\n",
    "\n",
    "custom_counts = {\n",
    "    \"BusinessUnit\": 1,\n",
    "    \"ProductFamily\": 1,\n",
    "    \"ProductOffering\": 1,\n",
    "    \"Facility\": 1,\n",
    "    \"Parts\": 1,\n",
    "    \"Warehouse\": 1,\n",
    "    \"Supplier\": 1,\n",
    "}"
   ]
  },
  {
   "cell_type": "code",
   "execution_count": 3,
   "metadata": {},
   "outputs": [],
   "source": [
    "# API_URL = \"https://bug-hardy-obviously.ngrok-free.app\"\n",
    "API_URL = \"http://localhost:8000\"\n",
    "\n",
    "version = \"static_small_10_bulk_test_v3\""
   ]
  },
  {
   "cell_type": "code",
   "execution_count": 4,
   "metadata": {},
   "outputs": [
    {
     "name": "stdout",
     "output_type": "stream",
     "text": [
      "Generated 13 operations\n",
      "[{'action': 'create', 'type': 'schema', 'payload': {'node_id': '1', 'node_type': 'Parts', 'properties': {'id': '1', 'name': 'Name_6771', 'description': 'Description_8727', 'type': 'Type A', 'cost': 4835.28, 'importance': 2, 'expected_life': 2446, 'units_in_chain': 41, 'expiry': 191}}, 'timestamp': 0}, {'action': 'create', 'type': 'schema', 'payload': {'node_id': '1-1', 'node_type': 'Facility', 'properties': {'id': '1-1', 'name': 'Name_3519', 'type': 'Type B', 'location': 'New York', 'max_capacity': 3678, 'operating_cost': 1616.1}}, 'timestamp': 0}, {'action': 'create', 'type': 'schema', 'payload': {'source_id': '1', 'target_id': '1-1', 'edge_type': 'PartsToFacility', 'properties': {'quantity': 91, 'distance_from_warehouse': 772.62, 'transport_cost': 337.15, 'lead_time': 14}}, 'timestamp': 0}, {'action': 'create', 'type': 'schema', 'payload': {'node_id': '1-1-1', 'node_type': 'ProductOffering', 'properties': {'id': '1-1-1', 'name': 'Name_2711', 'cost': 4608.79, 'demand': 733}}, 'timestamp': 0}, {'action': 'create', 'type': 'schema', 'payload': {'source_id': '1-1', 'target_id': '1-1-1', 'edge_type': 'FacilityToProductOfferings', 'properties': {'product_cost': 733.47, 'lead_time': 20, 'quantity_produced': 433}}, 'timestamp': 0}, {'action': 'create', 'type': 'schema', 'payload': {'node_id': '1-1-1-1', 'node_type': 'ProductFamily', 'properties': {'id': '1-1-1-1', 'name': 'Name_6662', 'revenue': 4969.92}}, 'timestamp': 0}, {'action': 'create', 'type': 'schema', 'payload': {'source_id': '1-1-1', 'target_id': '1-1-1-1', 'edge_type': 'ProductOfferingsToProductFamilies', 'properties': {}}, 'timestamp': 0}, {'action': 'create', 'type': 'schema', 'payload': {'node_id': '1-1-1-1-1', 'node_type': 'BusinessUnit', 'properties': {'id': '1-1-1-1-1', 'name': 'Name_9313', 'description': 'Description_3111', 'revenue': 6373.62}}, 'timestamp': 0}, {'action': 'create', 'type': 'schema', 'payload': {'source_id': '1-1-1-1', 'target_id': '1-1-1-1-1', 'edge_type': 'ProductFamiliesToBusinessUnit', 'properties': {}}, 'timestamp': 0}, {'action': 'create', 'type': 'schema', 'payload': {'node_id': 'Supplier_1', 'node_type': 'Supplier', 'properties': {'id': 'Supplier_1', 'name': 'Name_3929', 'location': 'New York', 'quality': 738.33, 'reliability': 0.45, 'size': 'Large'}}, 'timestamp': 0}, {'action': 'create', 'type': 'schema', 'payload': {'node_id': 'Warehouse_1', 'node_type': 'Warehouse', 'properties': {'id': 'Warehouse_1', 'name': 'Name_4582', 'type': 'Type B', 'size': 'Extra Large', 'location': 'Phoenix', 'max_capacity': 1875, 'current_capacity': 3588, 'safety_stock': 556}}, 'timestamp': 0}, {'action': 'create', 'type': 'schema', 'payload': {'source_id': 'Supplier_1', 'target_id': 'Warehouse_1', 'edge_type': 'SupplierToWarehouse', 'properties': {'transportation_cost': 4284.58, 'lead_time': 19}}, 'timestamp': 0}, {'action': 'create', 'type': 'schema', 'payload': {'source_id': 'Warehouse_1', 'target_id': '1', 'edge_type': 'WarehouseToParts', 'properties': {'inventory_level': 246, 'storage_cost': 480.59}}, 'timestamp': 0}]\n"
     ]
    }
   ],
   "source": [
    "create_ops = generator.create_network(custom_counts)\n",
    "\n",
    "print(f\"Generated {len(create_ops)} operations\")\n",
    "\n",
    "print(create_ops)\n",
    "\n"
   ]
  },
  {
   "cell_type": "code",
   "execution_count": 5,
   "metadata": {},
   "outputs": [
    {
     "name": "stdout",
     "output_type": "stream",
     "text": [
      "{'version': 'static_small_10_bulk_test_v2', 'action': 'bulk_create', 'type': 'schema', 'timestamp': 0, 'payload': [{'node_id': '1', 'node_type': 'Parts', 'properties': {'id': '1', 'name': 'Name_6771', 'description': 'Description_8727', 'type': 'Type A', 'cost': 4835.28, 'importance': 2, 'expected_life': 2446, 'units_in_chain': 41, 'expiry': 191}}, {'node_id': '1-1', 'node_type': 'Facility', 'properties': {'id': '1-1', 'name': 'Name_3519', 'type': 'Type B', 'location': 'New York', 'max_capacity': 3678, 'operating_cost': 1616.1}}, {'source_id': '1', 'target_id': '1-1', 'edge_type': 'PartsToFacility', 'properties': {'quantity': 91, 'distance_from_warehouse': 772.62, 'transport_cost': 337.15, 'lead_time': 14}}, {'node_id': '1-1-1', 'node_type': 'ProductOffering', 'properties': {'id': '1-1-1', 'name': 'Name_2711', 'cost': 4608.79, 'demand': 733}}, {'source_id': '1-1', 'target_id': '1-1-1', 'edge_type': 'FacilityToProductOfferings', 'properties': {'product_cost': 733.47, 'lead_time': 20, 'quantity_produced': 433}}, {'node_id': '1-1-1-1', 'node_type': 'ProductFamily', 'properties': {'id': '1-1-1-1', 'name': 'Name_6662', 'revenue': 4969.92}}, {'source_id': '1-1-1', 'target_id': '1-1-1-1', 'edge_type': 'ProductOfferingsToProductFamilies', 'properties': {}}, {'node_id': '1-1-1-1-1', 'node_type': 'BusinessUnit', 'properties': {'id': '1-1-1-1-1', 'name': 'Name_9313', 'description': 'Description_3111', 'revenue': 6373.62}}, {'source_id': '1-1-1-1', 'target_id': '1-1-1-1-1', 'edge_type': 'ProductFamiliesToBusinessUnit', 'properties': {}}, {'node_id': 'Supplier_1', 'node_type': 'Supplier', 'properties': {'id': 'Supplier_1', 'name': 'Name_3929', 'location': 'New York', 'quality': 738.33, 'reliability': 0.45, 'size': 'Large'}}, {'node_id': 'Warehouse_1', 'node_type': 'Warehouse', 'properties': {'id': 'Warehouse_1', 'name': 'Name_4582', 'type': 'Type B', 'size': 'Extra Large', 'location': 'Phoenix', 'max_capacity': 1875, 'current_capacity': 3588, 'safety_stock': 556}}, {'source_id': 'Supplier_1', 'target_id': 'Warehouse_1', 'edge_type': 'SupplierToWarehouse', 'properties': {'transportation_cost': 4284.58, 'lead_time': 19}}, {'source_id': 'Warehouse_1', 'target_id': '1', 'edge_type': 'WarehouseToParts', 'properties': {'inventory_level': 246, 'storage_cost': 480.59}}]}\n"
     ]
    },
    {
     "data": {
      "text/plain": [
       "<Response [200]>"
      ]
     },
     "execution_count": 5,
     "metadata": {},
     "output_type": "execute_result"
    }
   ],
   "source": [
    "bulk_create_payload = {\n",
    "    \"version\": version,\n",
    "    \"action\": \"bulk_create\",\n",
    "    \"type\": \"schema\",\n",
    "    \"timestamp\": create_ops[0][\"timestamp\"],\n",
    "    \"payload\": []\n",
    "}\n",
    "\n",
    "for op in create_ops:\n",
    "    bulk_create_payload[\"payload\"].append(op[\"payload\"])\n",
    "\n",
    "print(bulk_create_payload)\n",
    "\n",
    "requests.post(f\"{API_URL}/schema/live/update\", json=bulk_create_payload)"
   ]
  },
  {
   "cell_type": "code",
   "execution_count": 6,
   "metadata": {},
   "outputs": [
    {
     "name": "stdout",
     "output_type": "stream",
     "text": [
      "Generated 20 update operations\n",
      "{'version': 'static_small_10_bulk_test_v2', 'action': 'bulk_update', 'type': 'schema', 'timestamp': 0, 'payload': [{'node_id': '1', 'node_type': 'Parts', 'payload': {'id': '1', 'name': 'Name_3277', 'description': 'Description_8727', 'type': 'Type B', 'cost': 4835.28, 'importance': 2, 'expected_life': 2446, 'units_in_chain': 41, 'expiry': 191}}, {'node_id': '1-1-1', 'node_type': 'ProductOffering', 'payload': {'id': '1-1-1', 'name': 'Name_5487', 'cost': 4608.79, 'demand': 733}}, {'node_id': '1-1', 'node_type': 'Facility', 'payload': {'id': '1-1', 'name': 'Name_3519', 'type': 'Type B', 'location': 'New York', 'max_capacity': 3678, 'operating_cost': 8041.07}}, {'node_id': '1', 'node_type': 'Parts', 'payload': {'id': '1', 'name': 'Name_6684', 'description': 'Description_8727', 'type': 'Type A', 'cost': 8947.78, 'importance': 2, 'expected_life': 1148, 'units_in_chain': 41, 'expiry': 191}}, {'node_id': '1-1-1-1-1', 'node_type': 'BusinessUnit', 'payload': {'id': '1-1-1-1-1', 'name': 'Name_8076', 'description': 'Description_1175', 'revenue': 6373.62}}, {'node_id': '1-1-1-1', 'node_type': 'ProductFamily', 'payload': {'id': '1-1-1-1', 'name': 'Name_7828', 'revenue': 6204.23}}, {'node_id': '1-1-1-1', 'node_type': 'ProductFamily', 'payload': {'id': '1-1-1-1', 'name': 'Name_7828', 'revenue': 5459.61}}, {'node_id': '1-1', 'node_type': 'Facility', 'payload': {'id': '1-1', 'name': 'Name_8695', 'type': 'Type B', 'location': 'Houston', 'max_capacity': 3678, 'operating_cost': 8041.07}}, {'node_id': 'Warehouse_1', 'node_type': 'Warehouse', 'payload': {'id': 'Warehouse_1', 'name': 'Name_4697', 'type': 'Type B', 'size': 'Medium', 'location': 'Chicago', 'max_capacity': 2506, 'current_capacity': 3012, 'safety_stock': 686}}, {'node_id': '1-1', 'node_type': 'Facility', 'payload': {'id': '1-1', 'name': 'Name_9458', 'type': 'Type A', 'location': 'Los Angeles', 'max_capacity': 3678, 'operating_cost': 8041.07}}, {'source_id': '1', 'target_id': '1-1', 'edge_type': 'PartsToFacility', 'payload': {'quantity': 84, 'distance_from_warehouse': 180.83, 'transport_cost': 195.02, 'lead_time': 14}}, {'source_id': 'Warehouse_1', 'target_id': '1', 'edge_type': 'WarehouseToParts', 'payload': {'inventory_level': 718, 'storage_cost': 745.32}}, {'source_id': 'Warehouse_1', 'target_id': '1', 'edge_type': 'WarehouseToParts', 'payload': {'inventory_level': 927, 'storage_cost': 93.7}}, {'source_id': '1-1', 'target_id': '1-1-1', 'edge_type': 'FacilityToProductOfferings', 'payload': {'product_cost': 796.36, 'lead_time': 2, 'quantity_produced': 170}}, {'source_id': '1-1-1-1', 'target_id': '1-1-1-1-1', 'edge_type': 'ProductFamiliesToBusinessUnit', 'payload': {}}, {'source_id': '1-1-1-1', 'target_id': '1-1-1-1-1', 'edge_type': 'ProductFamiliesToBusinessUnit', 'payload': {}}, {'source_id': '1-1', 'target_id': '1-1-1', 'edge_type': 'FacilityToProductOfferings', 'payload': {'product_cost': 43.01, 'lead_time': 3, 'quantity_produced': 75}}, {'source_id': '1', 'target_id': '1-1', 'edge_type': 'PartsToFacility', 'payload': {'quantity': 107, 'distance_from_warehouse': 904.04, 'transport_cost': 877.72, 'lead_time': 28}}, {'source_id': '1-1-1-1', 'target_id': '1-1-1-1-1', 'edge_type': 'ProductFamiliesToBusinessUnit', 'payload': {}}, {'source_id': '1-1-1', 'target_id': '1-1-1-1', 'edge_type': 'ProductOfferingsToProductFamilies', 'payload': {}}]}\n",
      "Generated 20 update operations\n",
      "{'version': 'static_small_10_bulk_test_v2', 'action': 'bulk_update', 'type': 'schema', 'timestamp': 1, 'payload': [{'node_id': '1-1-1', 'node_type': 'ProductOffering', 'payload': {'id': '1-1-1', 'name': 'Name_5487', 'cost': 4608.79, 'demand': 585}}, {'node_id': '1-1-1-1-1', 'node_type': 'BusinessUnit', 'payload': {'id': '1-1-1-1-1', 'name': 'Name_8076', 'description': 'Description_1175', 'revenue': 1869.51}}, {'node_id': '1-1', 'node_type': 'Facility', 'payload': {'id': '1-1', 'name': 'Name_7971', 'type': 'Type A', 'location': 'Phoenix', 'max_capacity': 2122, 'operating_cost': 8041.07}}, {'node_id': '1-1-1-1-1', 'node_type': 'BusinessUnit', 'payload': {'id': '1-1-1-1-1', 'name': 'Name_8076', 'description': 'Description_2212', 'revenue': 1869.51}}, {'node_id': '1', 'node_type': 'Parts', 'payload': {'id': '1', 'name': 'Name_3547', 'description': 'Description_8727', 'type': 'Type A', 'cost': 2905.93, 'importance': 2, 'expected_life': 1148, 'units_in_chain': 41, 'expiry': 191}}, {'node_id': 'Warehouse_1', 'node_type': 'Warehouse', 'payload': {'id': 'Warehouse_1', 'name': 'Name_4697', 'type': 'Type B', 'size': 'Large', 'location': 'Los Angeles', 'max_capacity': 3592, 'current_capacity': 1546, 'safety_stock': 687}}, {'node_id': 'Supplier_1', 'node_type': 'Supplier', 'payload': {'id': 'Supplier_1', 'name': 'Name_3929', 'location': 'New York', 'quality': 520.84, 'reliability': 0.42, 'size': 'Large'}}, {'node_id': 'Supplier_1', 'node_type': 'Supplier', 'payload': {'id': 'Supplier_1', 'name': 'Name_3929', 'location': 'New York', 'quality': 520.84, 'reliability': 0.72, 'size': 'Large'}}, {'node_id': 'Warehouse_1', 'node_type': 'Warehouse', 'payload': {'id': 'Warehouse_1', 'name': 'Name_4697', 'type': 'Type B', 'size': 'Large', 'location': 'Phoenix', 'max_capacity': 3592, 'current_capacity': 1546, 'safety_stock': 242}}, {'node_id': '1-1', 'node_type': 'Facility', 'payload': {'id': '1-1', 'name': 'Name_2668', 'type': 'Type A', 'location': 'Phoenix', 'max_capacity': 2122, 'operating_cost': 8041.07}}, {'source_id': 'Warehouse_1', 'target_id': '1', 'edge_type': 'WarehouseToParts', 'payload': {'inventory_level': 237, 'storage_cost': 576.67}}, {'source_id': 'Warehouse_1', 'target_id': '1', 'edge_type': 'WarehouseToParts', 'payload': {'inventory_level': 946, 'storage_cost': 680.4}}, {'source_id': '1-1-1-1', 'target_id': '1-1-1-1-1', 'edge_type': 'ProductFamiliesToBusinessUnit', 'payload': {}}, {'source_id': 'Warehouse_1', 'target_id': '1', 'edge_type': 'WarehouseToParts', 'payload': {'inventory_level': 502, 'storage_cost': 898.91}}, {'source_id': 'Supplier_1', 'target_id': 'Warehouse_1', 'edge_type': 'SupplierToWarehouse', 'payload': {'transportation_cost': 7480.16, 'lead_time': 2}}, {'source_id': 'Warehouse_1', 'target_id': '1', 'edge_type': 'WarehouseToParts', 'payload': {'inventory_level': 260, 'storage_cost': 977.34}}, {'source_id': '1-1-1', 'target_id': '1-1-1-1', 'edge_type': 'ProductOfferingsToProductFamilies', 'payload': {}}, {'source_id': 'Warehouse_1', 'target_id': '1', 'edge_type': 'WarehouseToParts', 'payload': {'inventory_level': 270, 'storage_cost': 279.58}}, {'source_id': '1', 'target_id': '1-1', 'edge_type': 'PartsToFacility', 'payload': {'quantity': 321, 'distance_from_warehouse': 217.66, 'transport_cost': 218.82, 'lead_time': 7}}, {'source_id': '1', 'target_id': '1-1', 'edge_type': 'PartsToFacility', 'payload': {'quantity': 295, 'distance_from_warehouse': 270.84, 'transport_cost': 591.24, 'lead_time': 13}}]}\n",
      "Generated 20 update operations\n",
      "{'version': 'static_small_10_bulk_test_v2', 'action': 'bulk_update', 'type': 'schema', 'timestamp': 2, 'payload': [{'node_id': '1-1-1-1-1', 'node_type': 'BusinessUnit', 'payload': {'id': '1-1-1-1-1', 'name': 'Name_3620', 'description': 'Description_4982', 'revenue': 4037.33}}, {'node_id': '1-1', 'node_type': 'Facility', 'payload': {'id': '1-1', 'name': 'Name_2673', 'type': 'Type A', 'location': 'New York', 'max_capacity': 4987, 'operating_cost': 5779.37}}, {'node_id': '1', 'node_type': 'Parts', 'payload': {'id': '1', 'name': 'Name_2771', 'description': 'Description_8727', 'type': 'Type A', 'cost': 2709.69, 'importance': 2, 'expected_life': 1360, 'units_in_chain': 39, 'expiry': 191}}, {'node_id': '1-1', 'node_type': 'Facility', 'payload': {'id': '1-1', 'name': 'Name_1016', 'type': 'Type B', 'location': 'Houston', 'max_capacity': 4987, 'operating_cost': 5779.37}}, {'node_id': '1', 'node_type': 'Parts', 'payload': {'id': '1', 'name': 'Name_2402', 'description': 'Description_8727', 'type': 'Type A', 'cost': 2709.69, 'importance': 2, 'expected_life': 1224, 'units_in_chain': 71, 'expiry': 191}}, {'node_id': '1-1-1', 'node_type': 'ProductOffering', 'payload': {'id': '1-1-1', 'name': 'Name_5487', 'cost': 9139.36, 'demand': 124}}, {'node_id': '1-1', 'node_type': 'Facility', 'payload': {'id': '1-1', 'name': 'Name_7932', 'type': 'Type B', 'location': 'Houston', 'max_capacity': 3390, 'operating_cost': 5779.37}}, {'node_id': 'Warehouse_1', 'node_type': 'Warehouse', 'payload': {'id': 'Warehouse_1', 'name': 'Name_8832', 'type': 'Type B', 'size': 'Medium', 'location': 'Phoenix', 'max_capacity': 3592, 'current_capacity': 2325, 'safety_stock': 242}}, {'node_id': 'Warehouse_1', 'node_type': 'Warehouse', 'payload': {'id': 'Warehouse_1', 'name': 'Name_2410', 'type': 'Type B', 'size': 'Medium', 'location': 'Phoenix', 'max_capacity': 3592, 'current_capacity': 2325, 'safety_stock': 242}}, {'node_id': '1-1-1', 'node_type': 'ProductOffering', 'payload': {'id': '1-1-1', 'name': 'Name_7283', 'cost': 9139.36, 'demand': 124}}, {'source_id': '1-1-1', 'target_id': '1-1-1-1', 'edge_type': 'ProductOfferingsToProductFamilies', 'payload': {}}, {'source_id': '1', 'target_id': '1-1', 'edge_type': 'PartsToFacility', 'payload': {'quantity': 465, 'distance_from_warehouse': 234.68, 'transport_cost': 436.3, 'lead_time': 23}}, {'source_id': 'Supplier_1', 'target_id': 'Warehouse_1', 'edge_type': 'SupplierToWarehouse', 'payload': {'transportation_cost': 9967.1, 'lead_time': 30}}, {'source_id': '1', 'target_id': '1-1', 'edge_type': 'PartsToFacility', 'payload': {'quantity': 452, 'distance_from_warehouse': 929.56, 'transport_cost': 357.41, 'lead_time': 30}}, {'source_id': 'Warehouse_1', 'target_id': '1', 'edge_type': 'WarehouseToParts', 'payload': {'inventory_level': 377, 'storage_cost': 332.01}}, {'source_id': 'Supplier_1', 'target_id': 'Warehouse_1', 'edge_type': 'SupplierToWarehouse', 'payload': {'transportation_cost': 3624.42, 'lead_time': 11}}, {'source_id': '1-1-1-1', 'target_id': '1-1-1-1-1', 'edge_type': 'ProductFamiliesToBusinessUnit', 'payload': {}}, {'source_id': '1-1-1', 'target_id': '1-1-1-1', 'edge_type': 'ProductOfferingsToProductFamilies', 'payload': {}}, {'source_id': '1-1-1-1', 'target_id': '1-1-1-1-1', 'edge_type': 'ProductFamiliesToBusinessUnit', 'payload': {}}, {'source_id': '1-1-1-1', 'target_id': '1-1-1-1-1', 'edge_type': 'ProductFamiliesToBusinessUnit', 'payload': {}}]}\n",
      "Generated 20 update operations\n",
      "{'version': 'static_small_10_bulk_test_v2', 'action': 'bulk_update', 'type': 'schema', 'timestamp': 3, 'payload': [{'node_id': '1-1-1', 'node_type': 'ProductOffering', 'payload': {'id': '1-1-1', 'name': 'Name_7283', 'cost': 7295.67, 'demand': 339}}, {'node_id': '1', 'node_type': 'Parts', 'payload': {'id': '1', 'name': 'Name_2402', 'description': 'Description_8727', 'type': 'Type C', 'cost': 2709.69, 'importance': 2, 'expected_life': 1224, 'units_in_chain': 8, 'expiry': 191}}, {'node_id': 'Supplier_1', 'node_type': 'Supplier', 'payload': {'id': 'Supplier_1', 'name': 'Name_3929', 'location': 'New York', 'quality': 520.84, 'reliability': 0.72, 'size': 'Extra Large'}}, {'node_id': '1-1-1-1-1', 'node_type': 'BusinessUnit', 'payload': {'id': '1-1-1-1-1', 'name': 'Name_3620', 'description': 'Description_1634', 'revenue': 3373.64}}, {'node_id': '1-1-1-1', 'node_type': 'ProductFamily', 'payload': {'id': '1-1-1-1', 'name': 'Name_7828', 'revenue': 9360.67}}, {'node_id': '1-1-1', 'node_type': 'ProductOffering', 'payload': {'id': '1-1-1', 'name': 'Name_8145', 'cost': 7295.67, 'demand': 339}}, {'node_id': '1-1-1-1', 'node_type': 'ProductFamily', 'payload': {'id': '1-1-1-1', 'name': 'Name_3174', 'revenue': 9360.67}}, {'node_id': '1', 'node_type': 'Parts', 'payload': {'id': '1', 'name': 'Name_2402', 'description': 'Description_8727', 'type': 'Type B', 'cost': 3109.82, 'importance': 2, 'expected_life': 1224, 'units_in_chain': 8, 'expiry': 191}}, {'node_id': '1-1-1', 'node_type': 'ProductOffering', 'payload': {'id': '1-1-1', 'name': 'Name_8145', 'cost': 7295.67, 'demand': 644}}, {'node_id': 'Supplier_1', 'node_type': 'Supplier', 'payload': {'id': 'Supplier_1', 'name': 'Name_3929', 'location': 'New York', 'quality': 964.2, 'reliability': 0.72, 'size': 'Extra Large'}}, {'source_id': 'Warehouse_1', 'target_id': '1', 'edge_type': 'WarehouseToParts', 'payload': {'inventory_level': 784, 'storage_cost': 964.05}}, {'source_id': 'Warehouse_1', 'target_id': '1', 'edge_type': 'WarehouseToParts', 'payload': {'inventory_level': 986, 'storage_cost': 731.21}}, {'source_id': '1-1', 'target_id': '1-1-1', 'edge_type': 'FacilityToProductOfferings', 'payload': {'product_cost': 215.59, 'lead_time': 1, 'quantity_produced': 237}}, {'source_id': 'Warehouse_1', 'target_id': '1', 'edge_type': 'WarehouseToParts', 'payload': {'inventory_level': 154, 'storage_cost': 972.25}}, {'source_id': 'Supplier_1', 'target_id': 'Warehouse_1', 'edge_type': 'SupplierToWarehouse', 'payload': {'transportation_cost': 6113.85, 'lead_time': 11}}, {'source_id': '1-1-1', 'target_id': '1-1-1-1', 'edge_type': 'ProductOfferingsToProductFamilies', 'payload': {}}, {'source_id': '1-1', 'target_id': '1-1-1', 'edge_type': 'FacilityToProductOfferings', 'payload': {'product_cost': 680.36, 'lead_time': 11, 'quantity_produced': 116}}, {'source_id': '1-1-1', 'target_id': '1-1-1-1', 'edge_type': 'ProductOfferingsToProductFamilies', 'payload': {}}, {'source_id': '1', 'target_id': '1-1', 'edge_type': 'PartsToFacility', 'payload': {'quantity': 406, 'distance_from_warehouse': 465.06, 'transport_cost': 531.49, 'lead_time': 3}}, {'source_id': 'Warehouse_1', 'target_id': '1', 'edge_type': 'WarehouseToParts', 'payload': {'inventory_level': 593, 'storage_cost': 977.61}}]}\n",
      "Generated 20 update operations\n",
      "{'version': 'static_small_10_bulk_test_v2', 'action': 'bulk_update', 'type': 'schema', 'timestamp': 4, 'payload': [{'node_id': '1-1', 'node_type': 'Facility', 'payload': {'id': '1-1', 'name': 'Name_1617', 'type': 'Type C', 'location': 'Houston', 'max_capacity': 3390, 'operating_cost': 5779.37}}, {'node_id': 'Warehouse_1', 'node_type': 'Warehouse', 'payload': {'id': 'Warehouse_1', 'name': 'Name_2410', 'type': 'Type B', 'size': 'Extra Large', 'location': 'Chicago', 'max_capacity': 3592, 'current_capacity': 2325, 'safety_stock': 328}}, {'node_id': '1-1-1', 'node_type': 'ProductOffering', 'payload': {'id': '1-1-1', 'name': 'Name_6038', 'cost': 3130.48, 'demand': 550}}, {'node_id': 'Supplier_1', 'node_type': 'Supplier', 'payload': {'id': 'Supplier_1', 'name': 'Name_3929', 'location': 'New York', 'quality': 851.74, 'reliability': 0.72, 'size': 'Medium'}}, {'node_id': 'Warehouse_1', 'node_type': 'Warehouse', 'payload': {'id': 'Warehouse_1', 'name': 'Name_2410', 'type': 'Type B', 'size': 'Small', 'location': 'Chicago', 'max_capacity': 1014, 'current_capacity': 2325, 'safety_stock': 328}}, {'node_id': '1-1-1-1-1', 'node_type': 'BusinessUnit', 'payload': {'id': '1-1-1-1-1', 'name': 'Name_3620', 'description': 'Description_1634', 'revenue': 9564.03}}, {'node_id': '1-1-1', 'node_type': 'ProductOffering', 'payload': {'id': '1-1-1', 'name': 'Name_5214', 'cost': 3856.55, 'demand': 506}}, {'node_id': '1-1-1-1-1', 'node_type': 'BusinessUnit', 'payload': {'id': '1-1-1-1-1', 'name': 'Name_6001', 'description': 'Description_1634', 'revenue': 9564.03}}, {'node_id': 'Warehouse_1', 'node_type': 'Warehouse', 'payload': {'id': 'Warehouse_1', 'name': 'Name_2410', 'type': 'Type A', 'size': 'Large', 'location': 'Phoenix', 'max_capacity': 1014, 'current_capacity': 2325, 'safety_stock': 392}}, {'node_id': 'Warehouse_1', 'node_type': 'Warehouse', 'payload': {'id': 'Warehouse_1', 'name': 'Name_7400', 'type': 'Type B', 'size': 'Large', 'location': 'Phoenix', 'max_capacity': 2845, 'current_capacity': 2325, 'safety_stock': 392}}, {'source_id': 'Warehouse_1', 'target_id': '1', 'edge_type': 'WarehouseToParts', 'payload': {'inventory_level': 346, 'storage_cost': 156.58}}, {'source_id': '1', 'target_id': '1-1', 'edge_type': 'PartsToFacility', 'payload': {'quantity': 237, 'distance_from_warehouse': 116.01, 'transport_cost': 690.42, 'lead_time': 8}}, {'source_id': '1', 'target_id': '1-1', 'edge_type': 'PartsToFacility', 'payload': {'quantity': 272, 'distance_from_warehouse': 440.58, 'transport_cost': 525.3, 'lead_time': 1}}, {'source_id': '1-1', 'target_id': '1-1-1', 'edge_type': 'FacilityToProductOfferings', 'payload': {'product_cost': 39.81, 'lead_time': 11, 'quantity_produced': 303}}, {'source_id': '1', 'target_id': '1-1', 'edge_type': 'PartsToFacility', 'payload': {'quantity': 358, 'distance_from_warehouse': 619.55, 'transport_cost': 756.6, 'lead_time': 12}}, {'source_id': '1-1-1', 'target_id': '1-1-1-1', 'edge_type': 'ProductOfferingsToProductFamilies', 'payload': {}}, {'source_id': '1-1-1-1', 'target_id': '1-1-1-1-1', 'edge_type': 'ProductFamiliesToBusinessUnit', 'payload': {}}, {'source_id': '1-1', 'target_id': '1-1-1', 'edge_type': 'FacilityToProductOfferings', 'payload': {'product_cost': 380.46, 'lead_time': 20, 'quantity_produced': 375}}, {'source_id': '1-1-1', 'target_id': '1-1-1-1', 'edge_type': 'ProductOfferingsToProductFamilies', 'payload': {}}, {'source_id': '1-1-1-1', 'target_id': '1-1-1-1-1', 'edge_type': 'ProductFamiliesToBusinessUnit', 'payload': {}}]}\n",
      "Generated 20 update operations\n",
      "{'version': 'static_small_10_bulk_test_v2', 'action': 'bulk_update', 'type': 'schema', 'timestamp': 5, 'payload': [{'node_id': '1-1-1', 'node_type': 'ProductOffering', 'payload': {'id': '1-1-1', 'name': 'Name_8874', 'cost': 3856.55, 'demand': 506}}, {'node_id': '1-1-1-1-1', 'node_type': 'BusinessUnit', 'payload': {'id': '1-1-1-1-1', 'name': 'Name_7617', 'description': 'Description_1634', 'revenue': 9564.03}}, {'node_id': 'Warehouse_1', 'node_type': 'Warehouse', 'payload': {'id': 'Warehouse_1', 'name': 'Name_7400', 'type': 'Type C', 'size': 'Large', 'location': 'New York', 'max_capacity': 2845, 'current_capacity': 2415, 'safety_stock': 415}}, {'node_id': '1-1-1', 'node_type': 'ProductOffering', 'payload': {'id': '1-1-1', 'name': 'Name_8874', 'cost': 3856.55, 'demand': 237}}, {'node_id': '1-1-1', 'node_type': 'ProductOffering', 'payload': {'id': '1-1-1', 'name': 'Name_2716', 'cost': 3557.25, 'demand': 237}}, {'node_id': '1', 'node_type': 'Parts', 'payload': {'id': '1', 'name': 'Name_2402', 'description': 'Description_8328', 'type': 'Type B', 'cost': 3109.82, 'importance': 2, 'expected_life': 1483, 'units_in_chain': 64, 'expiry': 191}}, {'node_id': '1', 'node_type': 'Parts', 'payload': {'id': '1', 'name': 'Name_2402', 'description': 'Description_8328', 'type': 'Type B', 'cost': 3109.82, 'importance': 4, 'expected_life': 3639, 'units_in_chain': 41, 'expiry': 191}}, {'node_id': 'Supplier_1', 'node_type': 'Supplier', 'payload': {'id': 'Supplier_1', 'name': 'Name_6005', 'location': 'Houston', 'quality': 75.26, 'reliability': 0.87, 'size': 'Medium'}}, {'node_id': '1-1-1', 'node_type': 'ProductOffering', 'payload': {'id': '1-1-1', 'name': 'Name_1698', 'cost': 7181.2, 'demand': 237}}, {'node_id': 'Supplier_1', 'node_type': 'Supplier', 'payload': {'id': 'Supplier_1', 'name': 'Name_3676', 'location': 'Houston', 'quality': 75.26, 'reliability': 0.97, 'size': 'Large'}}, {'source_id': 'Supplier_1', 'target_id': 'Warehouse_1', 'edge_type': 'SupplierToWarehouse', 'payload': {'transportation_cost': 1091.49, 'lead_time': 10}}, {'source_id': 'Supplier_1', 'target_id': 'Warehouse_1', 'edge_type': 'SupplierToWarehouse', 'payload': {'transportation_cost': 6624.56, 'lead_time': 1}}, {'source_id': 'Warehouse_1', 'target_id': '1', 'edge_type': 'WarehouseToParts', 'payload': {'inventory_level': 409, 'storage_cost': 969.41}}, {'source_id': 'Supplier_1', 'target_id': 'Warehouse_1', 'edge_type': 'SupplierToWarehouse', 'payload': {'transportation_cost': 4642.91, 'lead_time': 8}}, {'source_id': 'Supplier_1', 'target_id': 'Warehouse_1', 'edge_type': 'SupplierToWarehouse', 'payload': {'transportation_cost': 4041.55, 'lead_time': 24}}, {'source_id': 'Supplier_1', 'target_id': 'Warehouse_1', 'edge_type': 'SupplierToWarehouse', 'payload': {'transportation_cost': 7771.1, 'lead_time': 4}}, {'source_id': '1-1-1-1', 'target_id': '1-1-1-1-1', 'edge_type': 'ProductFamiliesToBusinessUnit', 'payload': {}}, {'source_id': 'Supplier_1', 'target_id': 'Warehouse_1', 'edge_type': 'SupplierToWarehouse', 'payload': {'transportation_cost': 6025.72, 'lead_time': 23}}, {'source_id': 'Supplier_1', 'target_id': 'Warehouse_1', 'edge_type': 'SupplierToWarehouse', 'payload': {'transportation_cost': 1571.59, 'lead_time': 8}}, {'source_id': '1-1-1-1', 'target_id': '1-1-1-1-1', 'edge_type': 'ProductFamiliesToBusinessUnit', 'payload': {}}]}\n",
      "Generated 18 update operations\n",
      "{'version': 'static_small_10_bulk_test_v2', 'action': 'bulk_update', 'type': 'schema', 'timestamp': 6, 'payload': [{'node_id': '1-1-1', 'node_type': 'ProductOffering', 'payload': {'id': '1-1-1', 'name': 'Name_6463', 'cost': 7181.2, 'demand': 237}}, {'node_id': '1-1-1-1', 'node_type': 'ProductFamily', 'payload': {'id': '1-1-1-1', 'name': 'Name_2182', 'revenue': 8958.11}}, {'node_id': '1-1', 'node_type': 'Facility', 'payload': {'id': '1-1', 'name': 'Name_3610', 'type': 'Type C', 'location': 'Houston', 'max_capacity': 3930, 'operating_cost': 8049.29}}, {'node_id': '1-1-1', 'node_type': 'ProductOffering', 'payload': {'id': '1-1-1', 'name': 'Name_6463', 'cost': 7181.2, 'demand': 917}}, {'node_id': '1-1-1-1-1', 'node_type': 'BusinessUnit', 'payload': {'id': '1-1-1-1-1', 'name': 'Name_4714', 'description': 'Description_1522', 'revenue': 5014.51}}, {'node_id': 'Warehouse_1', 'node_type': 'Warehouse', 'payload': {'id': 'Warehouse_1', 'name': 'Name_7400', 'type': 'Type C', 'size': 'Extra Large', 'location': 'Los Angeles', 'max_capacity': 2845, 'current_capacity': 2415, 'safety_stock': 338}}, {'node_id': '1-1-1-1', 'node_type': 'ProductFamily', 'payload': {'id': '1-1-1-1', 'name': 'Name_1120', 'revenue': 3603.62}}, {'node_id': 'Supplier_1', 'node_type': 'Supplier', 'payload': {'id': 'Supplier_1', 'name': 'Name_3676', 'location': 'Houston', 'quality': 193.84, 'reliability': 0.21, 'size': 'Large'}}, {'source_id': '1-1-1-1', 'target_id': '1-1-1-1-1', 'edge_type': 'ProductFamiliesToBusinessUnit', 'payload': {}}, {'source_id': '1-1', 'target_id': '1-1-1', 'edge_type': 'FacilityToProductOfferings', 'payload': {'product_cost': 4.53, 'lead_time': 11, 'quantity_produced': 331}}, {'source_id': '1-1-1-1', 'target_id': '1-1-1-1-1', 'edge_type': 'ProductFamiliesToBusinessUnit', 'payload': {}}, {'source_id': '1-1-1-1', 'target_id': '1-1-1-1-1', 'edge_type': 'ProductFamiliesToBusinessUnit', 'payload': {}}, {'source_id': '1', 'target_id': '1-1', 'edge_type': 'PartsToFacility', 'payload': {'quantity': 71, 'distance_from_warehouse': 384.3, 'transport_cost': 275.45, 'lead_time': 12}}, {'source_id': 'Warehouse_1', 'target_id': '1', 'edge_type': 'WarehouseToParts', 'payload': {'inventory_level': 125, 'storage_cost': 372.07}}, {'source_id': 'Warehouse_1', 'target_id': '1', 'edge_type': 'WarehouseToParts', 'payload': {'inventory_level': 252, 'storage_cost': 395.91}}, {'source_id': '1-1-1-1', 'target_id': '1-1-1-1-1', 'edge_type': 'ProductFamiliesToBusinessUnit', 'payload': {}}, {'source_id': '1-1', 'target_id': '1-1-1', 'edge_type': 'FacilityToProductOfferings', 'payload': {'product_cost': 892.54, 'lead_time': 6, 'quantity_produced': 348}}, {'source_id': '1-1-1', 'target_id': '1-1-1-1', 'edge_type': 'ProductOfferingsToProductFamilies', 'payload': {}}]}\n",
      "Generated 19 update operations\n",
      "{'version': 'static_small_10_bulk_test_v2', 'action': 'bulk_update', 'type': 'schema', 'timestamp': 7, 'payload': [{'node_id': '1', 'node_type': 'Parts', 'payload': {'id': '1', 'name': 'Name_3768', 'description': 'Description_8328', 'type': 'Type B', 'cost': 9465.81, 'importance': 4, 'expected_life': 456, 'units_in_chain': 99, 'expiry': 191}}, {'node_id': '1-1-1-1-1', 'node_type': 'BusinessUnit', 'payload': {'id': '1-1-1-1-1', 'name': 'Name_4076', 'description': 'Description_3280', 'revenue': 8088.94}}, {'node_id': 'Warehouse_1', 'node_type': 'Warehouse', 'payload': {'id': 'Warehouse_1', 'name': 'Name_2430', 'type': 'Type C', 'size': 'Extra Large', 'location': 'Los Angeles', 'max_capacity': 2845, 'current_capacity': 1270, 'safety_stock': 829}}, {'node_id': 'Warehouse_1', 'node_type': 'Warehouse', 'payload': {'id': 'Warehouse_1', 'name': 'Name_1094', 'type': 'Type C', 'size': 'Extra Large', 'location': 'Los Angeles', 'max_capacity': 2532, 'current_capacity': 4166, 'safety_stock': 829}}, {'node_id': '1-1-1', 'node_type': 'ProductOffering', 'payload': {'id': '1-1-1', 'name': 'Name_6463', 'cost': 5479.17, 'demand': 917}}, {'node_id': '1-1-1', 'node_type': 'ProductOffering', 'payload': {'id': '1-1-1', 'name': 'Name_7878', 'cost': 3318.65, 'demand': 775}}, {'node_id': '1-1-1-1', 'node_type': 'ProductFamily', 'payload': {'id': '1-1-1-1', 'name': 'Name_9041', 'revenue': 3603.62}}, {'node_id': '1-1-1-1-1', 'node_type': 'BusinessUnit', 'payload': {'id': '1-1-1-1-1', 'name': 'Name_1372', 'description': 'Description_3280', 'revenue': 6179.24}}, {'node_id': '1-1-1', 'node_type': 'ProductOffering', 'payload': {'id': '1-1-1', 'name': 'Name_9249', 'cost': 3318.65, 'demand': 791}}, {'source_id': '1', 'target_id': '1-1', 'edge_type': 'PartsToFacility', 'payload': {'quantity': 469, 'distance_from_warehouse': 362.87, 'transport_cost': 629.6, 'lead_time': 23}}, {'source_id': '1-1-1-1', 'target_id': '1-1-1-1-1', 'edge_type': 'ProductFamiliesToBusinessUnit', 'payload': {}}, {'source_id': '1', 'target_id': '1-1', 'edge_type': 'PartsToFacility', 'payload': {'quantity': 106, 'distance_from_warehouse': 492.94, 'transport_cost': 541.48, 'lead_time': 4}}, {'source_id': 'Supplier_1', 'target_id': 'Warehouse_1', 'edge_type': 'SupplierToWarehouse', 'payload': {'transportation_cost': 4404.42, 'lead_time': 20}}, {'source_id': '1-1-1-1', 'target_id': '1-1-1-1-1', 'edge_type': 'ProductFamiliesToBusinessUnit', 'payload': {}}, {'source_id': 'Warehouse_1', 'target_id': '1', 'edge_type': 'WarehouseToParts', 'payload': {'inventory_level': 799, 'storage_cost': 48.53}}, {'source_id': 'Supplier_1', 'target_id': 'Warehouse_1', 'edge_type': 'SupplierToWarehouse', 'payload': {'transportation_cost': 9713.38, 'lead_time': 1}}, {'source_id': '1-1-1-1', 'target_id': '1-1-1-1-1', 'edge_type': 'ProductFamiliesToBusinessUnit', 'payload': {}}, {'source_id': '1-1-1-1', 'target_id': '1-1-1-1-1', 'edge_type': 'ProductFamiliesToBusinessUnit', 'payload': {}}, {'source_id': '1', 'target_id': '1-1', 'edge_type': 'PartsToFacility', 'payload': {'quantity': 75, 'distance_from_warehouse': 765.26, 'transport_cost': 725.59, 'lead_time': 24}}]}\n",
      "Generated 18 update operations\n",
      "{'version': 'static_small_10_bulk_test_v2', 'action': 'bulk_update', 'type': 'schema', 'timestamp': 8, 'payload': [{'node_id': '1-1-1-1', 'node_type': 'ProductFamily', 'payload': {'id': '1-1-1-1', 'name': 'Name_1087', 'revenue': 7902.23}}, {'node_id': '1-1', 'node_type': 'Facility', 'payload': {'id': '1-1', 'name': 'Name_3610', 'type': 'Type C', 'location': 'Houston', 'max_capacity': 2077, 'operating_cost': 7121.39}}, {'node_id': 'Supplier_1', 'node_type': 'Supplier', 'payload': {'id': 'Supplier_1', 'name': 'Name_3676', 'location': 'Los Angeles', 'quality': 193.84, 'reliability': 0.21, 'size': 'Large'}}, {'node_id': '1-1-1-1-1', 'node_type': 'BusinessUnit', 'payload': {'id': '1-1-1-1-1', 'name': 'Name_1372', 'description': 'Description_3280', 'revenue': 6770.96}}, {'node_id': '1', 'node_type': 'Parts', 'payload': {'id': '1', 'name': 'Name_9332', 'description': 'Description_2517', 'type': 'Type B', 'cost': 7720.64, 'importance': 5, 'expected_life': 3139, 'units_in_chain': 99, 'expiry': 80}}, {'node_id': 'Supplier_1', 'node_type': 'Supplier', 'payload': {'id': 'Supplier_1', 'name': 'Name_3676', 'location': 'Houston', 'quality': 193.84, 'reliability': 0.7, 'size': 'Large'}}, {'node_id': '1-1-1-1', 'node_type': 'ProductFamily', 'payload': {'id': '1-1-1-1', 'name': 'Name_3920', 'revenue': 7902.23}}, {'node_id': '1', 'node_type': 'Parts', 'payload': {'id': '1', 'name': 'Name_9332', 'description': 'Description_2517', 'type': 'Type B', 'cost': 7720.64, 'importance': 1, 'expected_life': 3139, 'units_in_chain': 41, 'expiry': 290}}, {'source_id': '1-1-1-1', 'target_id': '1-1-1-1-1', 'edge_type': 'ProductFamiliesToBusinessUnit', 'payload': {}}, {'source_id': 'Warehouse_1', 'target_id': '1', 'edge_type': 'WarehouseToParts', 'payload': {'inventory_level': 676, 'storage_cost': 490.35}}, {'source_id': '1-1-1-1', 'target_id': '1-1-1-1-1', 'edge_type': 'ProductFamiliesToBusinessUnit', 'payload': {}}, {'source_id': '1-1-1-1', 'target_id': '1-1-1-1-1', 'edge_type': 'ProductFamiliesToBusinessUnit', 'payload': {}}, {'source_id': 'Supplier_1', 'target_id': 'Warehouse_1', 'edge_type': 'SupplierToWarehouse', 'payload': {'transportation_cost': 2076.48, 'lead_time': 23}}, {'source_id': '1-1-1-1', 'target_id': '1-1-1-1-1', 'edge_type': 'ProductFamiliesToBusinessUnit', 'payload': {}}, {'source_id': '1-1', 'target_id': '1-1-1', 'edge_type': 'FacilityToProductOfferings', 'payload': {'product_cost': 975.86, 'lead_time': 7, 'quantity_produced': 264}}, {'source_id': 'Supplier_1', 'target_id': 'Warehouse_1', 'edge_type': 'SupplierToWarehouse', 'payload': {'transportation_cost': 6237.48, 'lead_time': 30}}, {'source_id': '1', 'target_id': '1-1', 'edge_type': 'PartsToFacility', 'payload': {'quantity': 139, 'distance_from_warehouse': 573.57, 'transport_cost': 322.25, 'lead_time': 9}}, {'source_id': '1', 'target_id': '1-1', 'edge_type': 'PartsToFacility', 'payload': {'quantity': 269, 'distance_from_warehouse': 75.58, 'transport_cost': 416.69, 'lead_time': 27}}]}\n",
      "Generated 18 update operations\n",
      "{'version': 'static_small_10_bulk_test_v2', 'action': 'bulk_update', 'type': 'schema', 'timestamp': 9, 'payload': [{'node_id': '1', 'node_type': 'Parts', 'payload': {'id': '1', 'name': 'Name_2206', 'description': 'Description_2517', 'type': 'Type B', 'cost': 7720.64, 'importance': 1, 'expected_life': 1046, 'units_in_chain': 85, 'expiry': 290}}, {'node_id': '1-1', 'node_type': 'Facility', 'payload': {'id': '1-1', 'name': 'Name_3610', 'type': 'Type B', 'location': 'Houston', 'max_capacity': 2077, 'operating_cost': 7121.39}}, {'node_id': '1-1-1', 'node_type': 'ProductOffering', 'payload': {'id': '1-1-1', 'name': 'Name_9249', 'cost': 7110.18, 'demand': 948}}, {'node_id': '1-1-1', 'node_type': 'ProductOffering', 'payload': {'id': '1-1-1', 'name': 'Name_7123', 'cost': 8937.29, 'demand': 220}}, {'node_id': '1-1-1', 'node_type': 'ProductOffering', 'payload': {'id': '1-1-1', 'name': 'Name_4561', 'cost': 5541.11, 'demand': 286}}, {'node_id': 'Warehouse_1', 'node_type': 'Warehouse', 'payload': {'id': 'Warehouse_1', 'name': 'Name_1129', 'type': 'Type C', 'size': 'Large', 'location': 'Chicago', 'max_capacity': 2477, 'current_capacity': 4542, 'safety_stock': 829}}, {'node_id': 'Warehouse_1', 'node_type': 'Warehouse', 'payload': {'id': 'Warehouse_1', 'name': 'Name_1129', 'type': 'Type C', 'size': 'Large', 'location': 'Phoenix', 'max_capacity': 4433, 'current_capacity': 4715, 'safety_stock': 110}}, {'node_id': '1-1-1-1-1', 'node_type': 'BusinessUnit', 'payload': {'id': '1-1-1-1-1', 'name': 'Name_9644', 'description': 'Description_3280', 'revenue': 6336.03}}, {'source_id': '1', 'target_id': '1-1', 'edge_type': 'PartsToFacility', 'payload': {'quantity': 94, 'distance_from_warehouse': 604.33, 'transport_cost': 467.76, 'lead_time': 4}}, {'source_id': '1-1-1', 'target_id': '1-1-1-1', 'edge_type': 'ProductOfferingsToProductFamilies', 'payload': {}}, {'source_id': '1-1-1-1', 'target_id': '1-1-1-1-1', 'edge_type': 'ProductFamiliesToBusinessUnit', 'payload': {}}, {'source_id': '1', 'target_id': '1-1', 'edge_type': 'PartsToFacility', 'payload': {'quantity': 486, 'distance_from_warehouse': 898.78, 'transport_cost': 610.11, 'lead_time': 28}}, {'source_id': '1', 'target_id': '1-1', 'edge_type': 'PartsToFacility', 'payload': {'quantity': 278, 'distance_from_warehouse': 379.37, 'transport_cost': 401.91, 'lead_time': 2}}, {'source_id': '1-1-1', 'target_id': '1-1-1-1', 'edge_type': 'ProductOfferingsToProductFamilies', 'payload': {}}, {'source_id': '1-1-1-1', 'target_id': '1-1-1-1-1', 'edge_type': 'ProductFamiliesToBusinessUnit', 'payload': {}}, {'source_id': '1-1-1', 'target_id': '1-1-1-1', 'edge_type': 'ProductOfferingsToProductFamilies', 'payload': {}}, {'source_id': '1-1-1-1', 'target_id': '1-1-1-1-1', 'edge_type': 'ProductFamiliesToBusinessUnit', 'payload': {}}, {'source_id': 'Supplier_1', 'target_id': 'Warehouse_1', 'edge_type': 'SupplierToWarehouse', 'payload': {'transportation_cost': 7957.67, 'lead_time': 21}}]}\n"
     ]
    }
   ],
   "source": [
    "update_cycles = 10\n",
    "for _ in range(update_cycles):\n",
    "    update_ops = generator.generate_updates(\n",
    "        node_updates=10,\n",
    "        edge_updates=10\n",
    "    )\n",
    "    print(f\"Generated {len(update_ops)} update operations\")\n",
    "\n",
    "    bulk_update_payload = {\n",
    "        \"version\": version,\n",
    "        \"action\": \"bulk_update\",\n",
    "        \"type\": \"schema\",\n",
    "        \"timestamp\": update_ops[0][\"timestamp\"],\n",
    "        \"payload\": []\n",
    "    }\n",
    "\n",
    "    for op in update_ops:\n",
    "        bulk_update_payload[\"payload\"].append(op[\"payload\"])\n",
    "\n",
    "    print(bulk_update_payload)\n",
    "\n",
    "    requests.post(f\"{API_URL}/schema/live/update\", json=bulk_update_payload)\n",
    "    time.sleep(1)"
   ]
  },
  {
   "cell_type": "code",
   "execution_count": 7,
   "metadata": {},
   "outputs": [],
   "source": [
    "delete_cycles = 0\n",
    "for _ in range(delete_cycles):\n",
    "    delete_ops = generator.generate_deletions(\n",
    "        node_deletions=5,\n",
    "        edge_deletions=5\n",
    "    )\n",
    "    print(f\"Generated {len(delete_ops)} delete operations\")\n",
    "\n",
    "    updated_delete_ops = []\n",
    "\n",
    "    for op in delete_ops:\n",
    "        op[\"version\"] = version\n",
    "        updated_delete_ops.append(op)\n",
    "\n",
    "    requests.post(f\"{API_URL}/schema/live/update/bulk\", json=updated_delete_ops)"
   ]
  }
 ],
 "metadata": {
  "kernelspec": {
   "display_name": "venv",
   "language": "python",
   "name": "python3"
  },
  "language_info": {
   "codemirror_mode": {
    "name": "ipython",
    "version": 3
   },
   "file_extension": ".py",
   "mimetype": "text/x-python",
   "name": "python",
   "nbconvert_exporter": "python",
   "pygments_lexer": "ipython3",
   "version": "3.12.0"
  }
 },
 "nbformat": 4,
 "nbformat_minor": 2
}
