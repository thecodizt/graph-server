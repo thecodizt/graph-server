{
 "cells": [
  {
   "cell_type": "code",
   "execution_count": 1,
   "metadata": {},
   "outputs": [],
   "source": [
    "from randomgen import RandomNetworkGenerator\n",
    "import json\n",
    "import requests\n",
    "import time"
   ]
  },
  {
   "cell_type": "code",
   "execution_count": 2,
   "metadata": {},
   "outputs": [],
   "source": [
    "schema = json.load(open(\"../../../metadata/relations.json\", \"r\"))\n",
    "generator = RandomNetworkGenerator(schema)\n",
    "\n",
    "custom_counts = {\n",
    "    \"BusinessUnit\": 1,\n",
    "    \"ProductFamily\": 2,\n",
    "    \"ProductOffering\": 3,\n",
    "    \"Facility\": 2,\n",
    "    \"Parts\": 4,\n",
    "    \"Warehouse\": 5,\n",
    "    \"Supplier\": 5,\n",
    "}"
   ]
  },
  {
   "cell_type": "code",
   "execution_count": 3,
   "metadata": {},
   "outputs": [],
   "source": [
    "# API_URL = \"https://bug-hardy-obviously.ngrok-free.app\"\n",
    "API_URL = \"http://localhost:8000\"\n",
    "\n",
    "version = \"dynamic_small_10_bulk_test_v3\""
   ]
  },
  {
   "cell_type": "code",
   "execution_count": null,
   "metadata": {},
   "outputs": [],
   "source": [
    "create_ops = generator.create_network(custom_counts)\n",
    "\n",
    "print(f\"Generated {len(create_ops)} operations\")\n",
    "\n",
    "print(create_ops)\n",
    "\n"
   ]
  },
  {
   "cell_type": "code",
   "execution_count": null,
   "metadata": {},
   "outputs": [],
   "source": [
    "bulk_create_payload = {\n",
    "    \"version\": version,\n",
    "    \"action\": \"bulk_create\",\n",
    "    \"type\": \"schema\",\n",
    "    \"timestamp\": create_ops[0][\"timestamp\"],\n",
    "    \"payload\": []\n",
    "}\n",
    "\n",
    "for op in create_ops:\n",
    "    bulk_create_payload[\"payload\"].append(op[\"payload\"])\n",
    "\n",
    "print(bulk_create_payload)\n",
    "\n",
    "requests.post(f\"{API_URL}/schema/live/update\", json=bulk_create_payload)"
   ]
  },
  {
   "cell_type": "code",
   "execution_count": null,
   "metadata": {},
   "outputs": [],
   "source": [
    "update_cycles = 2\n",
    "for _ in range(update_cycles):\n",
    "    update_ops = generator.generate_updates(\n",
    "        node_updates=10,\n",
    "        edge_updates=10\n",
    "    )\n",
    "    print(f\"Generated {len(update_ops)} update operations\")\n",
    "\n",
    "    bulk_update_payload = {\n",
    "        \"version\": version,\n",
    "        \"action\": \"bulk_update\",\n",
    "        \"type\": \"schema\",\n",
    "        \"timestamp\": update_ops[0][\"timestamp\"],\n",
    "        \"payload\": []\n",
    "    }\n",
    "\n",
    "    for op in update_ops:\n",
    "        bulk_update_payload[\"payload\"].append(op[\"payload\"])\n",
    "\n",
    "    print(bulk_update_payload)\n",
    "\n",
    "    requests.post(f\"{API_URL}/schema/live/update\", json=bulk_update_payload)\n",
    "    time.sleep(1)"
   ]
  },
  {
   "cell_type": "code",
   "execution_count": null,
   "metadata": {},
   "outputs": [],
   "source": [
    "delete_cycles = 2\n",
    "for _ in range(delete_cycles):\n",
    "    delete_ops = generator.generate_deletions(\n",
    "        node_deletions=5,\n",
    "        edge_deletions=5\n",
    "    )\n",
    "    print(f\"Generated {len(delete_ops)} delete operations\")\n",
    "\n",
    "    updated_delete_ops = []\n",
    "\n",
    "    for op in delete_ops:\n",
    "        op[\"version\"] = version\n",
    "        updated_delete_ops.append(op)\n",
    "\n",
    "    requests.post(f\"{API_URL}/schema/live/update/bulk\", json=updated_delete_ops)"
   ]
  }
 ],
 "metadata": {
  "kernelspec": {
   "display_name": "venv",
   "language": "python",
   "name": "python3"
  },
  "language_info": {
   "codemirror_mode": {
    "name": "ipython",
    "version": 3
   },
   "file_extension": ".py",
   "mimetype": "text/x-python",
   "name": "python",
   "nbconvert_exporter": "python",
   "pygments_lexer": "ipython3",
   "version": "3.12.0"
  }
 },
 "nbformat": 4,
 "nbformat_minor": 2
}
