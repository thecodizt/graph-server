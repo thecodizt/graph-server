{
 "cells": [
  {
   "cell_type": "code",
   "execution_count": null,
   "metadata": {},
   "outputs": [],
   "source": [
    "from randomgen import RandomNetworkGenerator\n",
    "import json"
   ]
  },
  {
   "cell_type": "code",
   "execution_count": null,
   "metadata": {},
   "outputs": [],
   "source": [
    "# Example schema is provided as a dictionary\n",
    "schema = json.load(open(\"../metadata/relations.json\", \"r\"))\n",
    "generator = RandomNetworkGenerator(schema)\n",
    "\n",
    "custom_counts = {\n",
    "    \"BusinessUnit\": 1,\n",
    "    \"ProductFamily\": 1,\n",
    "    \"ProductOffering\": 1,\n",
    "    \"Facility\": 1,\n",
    "    \"Parts\": 2,\n",
    "    \"Warehouse\": 2,\n",
    "    \"Supplier\": 2,\n",
    "}\n",
    "create_ops = generator.create_network(custom_counts)\n",
    "\n",
    "update_ops = generator.generate_updates(\n",
    "    node_updates=10,\n",
    "    edge_updates=10\n",
    ")\n",
    "\n",
    "print(f\"Generated {len(create_ops)} operations\")\n",
    "print(f\"Generated {len(update_ops)} update operations\")"
   ]
  },
  {
   "cell_type": "code",
   "execution_count": null,
   "metadata": {},
   "outputs": [],
   "source": [
    "API_URL = \"http://localhost:8000\"\n",
    "\n",
    "timestamp = 0\n",
    "version = \"v4\""
   ]
  },
  {
   "cell_type": "code",
   "execution_count": null,
   "metadata": {},
   "outputs": [],
   "source": [
    "import requests\n",
    "import time\n",
    "\n",
    "updated_create_ops = []\n",
    "\n",
    "for op in create_ops:\n",
    "    op[\"version\"] = version\n",
    "    updated_create_ops.append(op)\n",
    "\n",
    "requests.post(f\"{API_URL}/schema/live/update/bulk\", json=updated_create_ops)\n",
    "\n",
    "# for op in create_ops:\n",
    "#     op[\"version\"] = version\n",
    "#     # requests.post(f\"{API_URL}/schema/live/update\", json=op)\n",
    "#     timestamp += 1\n",
    "#     time.sleep(0.4)\n",
    "#     # print(f\"Completed operation {timestamp} {op['action']} {op['type']} {op['payload']}\")\n",
    "\n",
    "# for op in update_ops:\n",
    "#     op[\"version\"] = version\n",
    "#     # requests.post(f\"{API_URL}/schema/live/update\", json=op)\n",
    "#     timestamp += 1\n",
    "#     time.sleep(0.4)\n",
    "#     print(f\"Completed operation {timestamp} {op['action']} {op['type']} {op['payload']}\")"
   ]
  }
 ],
 "metadata": {
  "kernelspec": {
   "display_name": "venv",
   "language": "python",
   "name": "python3"
  },
  "language_info": {
   "codemirror_mode": {
    "name": "ipython",
    "version": 3
   },
   "file_extension": ".py",
   "mimetype": "text/x-python",
   "name": "python",
   "nbconvert_exporter": "python",
   "pygments_lexer": "ipython3",
   "version": "3.12.0"
  }
 },
 "nbformat": 4,
 "nbformat_minor": 2
}
